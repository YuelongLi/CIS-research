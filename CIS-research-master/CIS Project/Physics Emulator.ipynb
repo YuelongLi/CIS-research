{
 "cells": [
  {
   "cell_type": "markdown",
   "metadata": {
    "collapsed": true
   },
   "source": [
    "# Exoplanet Observation\n",
    " ### Yuelong Li, 07/17/2018\n",
    " ### Instructor: Gregory Tucker\n",
    "  ####  1.  Simulate single planetary motion & Compare with Keplar's Law"
   ]
  },
  {
   "cell_type": "markdown",
   "metadata": {},
   "source": [
    "* Import numpy library"
   ]
  },
  {
   "cell_type": "code",
   "execution_count": null,
   "metadata": {
    "collapsed": true
   },
   "outputs": [],
   "source": [
    "import numpy as np"
   ]
  },
  {
   "cell_type": "markdown",
   "metadata": {},
   "source": [
    "* Construct celestrial body class\n",
    "* state:\n",
    "\n",
    "| $p$ | $v$   | $a$  |\n",
    "|------|--------------|------|\n",
    "| $x$ | $v_x$ | $a_x$ |\n",
    "| $y$ | $v_y$ | $a_y$ |\n",
    "| $z$ | $v_z$ | $a_z$ |\n",
    "* Graviatation calculation:\n",
    "    $F_{10} = (p_1-p_0)\\frac{Gm_0m_1}{\\|p_1-p_0\\|^3}$\n",
    "* Field variables needed:\n",
    "    $G = 6.67*10^{-20}km kg^{-1} s^{-2}, m$\n"
   ]
  },
  {
   "cell_type": "code",
   "execution_count": 3,
   "metadata": {
    "collapsed": true
   },
   "outputs": [],
   "source": [
    "G = 6.67e-20\n",
    "class CBody: #Definition of a celestrial body\n",
    "    state = None # 3*3 matrix for state of motion (km)\n",
    "    m = 1 # mass in kg\n",
    "    \n",
    "    def __init__(self, state, mass=0,theta=0,phi=np.pi/2, radius=0, speed=0):\n",
    "        if(state == None):\n",
    "            self.state=np.zeros((3,3))\n",
    "            self.state[0] = np.array([\n",
    "                np.sin(phi)*np.cos(theta)*radius, np.sin(phi)*np.sin(theta)*radius, np.cos(phi)*radius\n",
    "            ])\n",
    "            self.state[1] = np.array([\n",
    "                -speed*np.sin(phi)*np.sin(theta), speed*np.sin(phi)*np.cos(theta), 0\n",
    "            ])\n",
    "        else:\n",
    "            self.state = state.astype(float)\n",
    "        self.m = mass\n",
    "        return\n",
    "        \n",
    "    def step(self, dt): # propagate one step\n",
    "        for i in range(2): # Increment all states of motion by once\n",
    "            self.state[i]+=dt*self.state[i+1]\n",
    "        self.state[2] = 0 # Clear acceleration vector\n",
    "        return self.state\n",
    "    \n",
    "    def pullEachOther(self,cbody): # compute mutual attraction\n",
    "        p01 = (self.state[0]-cbody.state[0]) #Vector pointing from another cbody to this one\n",
    "        F = p01*(G*self.m*cbody.m/(np.linalg.norm(p01)**3)) # Newton's Law of gravitation\n",
    "        cbody.state[2]+=F/cbody.m\n",
    "        self.state[2]-=F/self.m"
   ]
  },
  {
   "cell_type": "markdown",
   "metadata": {},
   "source": [
    "* Test Cbody stepping method\n",
    "* Earth mass = 5.972e24kg DtoSun=149,597,870 km Speed = 29.783 km/s\n",
    "* Jupiter mass = 1.898e27kg DtoSun=778,547,200 km Speed = 13.06 km/s\n",
    "* Venus mass = 4.867e24kg DtoSun=108,200,000 km Speed = 35.03 km/s\n",
    "* Sun mass = 1.989e30kg DtoSun=0 km Speed = 0 km/s"
   ]
  },
  {
   "cell_type": "code",
   "execution_count": 4,
   "metadata": {},
   "outputs": [
    {
     "ename": "TypeError",
     "evalue": "__init__() missing 2 required positional arguments: 'state' and 'phi'",
     "traceback": [
      "\u001b[1;31m---------------------------------------------------------------------------\u001b[0m",
      "\u001b[1;31mTypeError\u001b[0m                                 Traceback (most recent call last)",
      "\u001b[1;32m<ipython-input-4-04334667b236>\u001b[0m in \u001b[0;36m<module>\u001b[1;34m()\u001b[0m\n\u001b[1;32m----> 1\u001b[1;33m \u001b[0mearth\u001b[0m \u001b[1;33m=\u001b[0m \u001b[0mCBody\u001b[0m\u001b[1;33m(\u001b[0m\u001b[0mmass\u001b[0m\u001b[1;33m=\u001b[0m\u001b[1;36m5.972e24\u001b[0m\u001b[1;33m,\u001b[0m \u001b[0mradius\u001b[0m \u001b[1;33m=\u001b[0m \u001b[1;36m14957870\u001b[0m\u001b[1;33m,\u001b[0m \u001b[0mtheta\u001b[0m \u001b[1;33m=\u001b[0m \u001b[1;36m3\u001b[0m\u001b[1;33m,\u001b[0m \u001b[0mspeed\u001b[0m \u001b[1;33m=\u001b[0m \u001b[1;36m29.783\u001b[0m\u001b[1;33m)\u001b[0m\u001b[1;33m\u001b[0m\u001b[0m\n\u001b[0m\u001b[0;32m      2\u001b[0m \u001b[0mprint\u001b[0m\u001b[1;33m(\u001b[0m\u001b[0mearth\u001b[0m\u001b[1;33m.\u001b[0m\u001b[0mstate\u001b[0m\u001b[1;33m)\u001b[0m\u001b[1;33m\u001b[0m\u001b[0m\n\u001b[0;32m      3\u001b[0m \u001b[0mjupiter\u001b[0m \u001b[1;33m=\u001b[0m \u001b[0mCBody\u001b[0m\u001b[1;33m(\u001b[0m\u001b[0mmass\u001b[0m \u001b[1;33m=\u001b[0m \u001b[1;36m1.898e27\u001b[0m\u001b[1;33m,\u001b[0m \u001b[0mradius\u001b[0m\u001b[1;33m=\u001b[0m\u001b[1;36m778547200\u001b[0m\u001b[1;33m,\u001b[0m \u001b[0mtheta\u001b[0m \u001b[1;33m=\u001b[0m \u001b[1;36m40\u001b[0m\u001b[1;33m,\u001b[0m \u001b[0mspeed\u001b[0m \u001b[1;33m=\u001b[0m \u001b[1;36m13.06\u001b[0m\u001b[1;33m)\u001b[0m\u001b[1;33m\u001b[0m\u001b[0m\n\u001b[0;32m      4\u001b[0m \u001b[0mprint\u001b[0m\u001b[1;33m(\u001b[0m\u001b[0mearth\u001b[0m\u001b[1;33m.\u001b[0m\u001b[0mstate\u001b[0m\u001b[1;33m)\u001b[0m\u001b[1;33m\u001b[0m\u001b[0m\n\u001b[0;32m      5\u001b[0m \u001b[0mvenus\u001b[0m \u001b[1;33m=\u001b[0m \u001b[0mCBody\u001b[0m\u001b[1;33m(\u001b[0m\u001b[0mmass\u001b[0m \u001b[1;33m=\u001b[0m \u001b[1;36m4.867e24\u001b[0m\u001b[1;33m,\u001b[0m \u001b[0mradius\u001b[0m\u001b[1;33m=\u001b[0m\u001b[1;36m108200000\u001b[0m\u001b[1;33m,\u001b[0m \u001b[0mtheta\u001b[0m \u001b[1;33m=\u001b[0m \u001b[1;36m25\u001b[0m\u001b[1;33m,\u001b[0m \u001b[0mspeed\u001b[0m \u001b[1;33m=\u001b[0m \u001b[1;36m35.03\u001b[0m\u001b[1;33m)\u001b[0m\u001b[1;33m\u001b[0m\u001b[0m\n",
      "\u001b[1;31mTypeError\u001b[0m: __init__() missing 2 required positional arguments: 'state' and 'phi'"
     ],
     "output_type": "error"
    }
   ],
   "source": [
    "earth = CBody(mass=5.972e24, radius = 14957870, theta = 3, speed = 29.783)\n",
    "print(earth.state)\n",
    "jupiter = CBody(mass = 1.898e27, radius=778547200, theta = 40, speed = 13.06)\n",
    "print(earth.state)\n",
    "venus = CBody(mass = 4.867e24, radius=108200000, theta = 25, speed = 35.03)\n",
    "sun = CBody(mass = 1.989e30, radius = 0, speed = 0, theta = 180)\n",
    "bodies = [earth, jupiter,sun]\n",
    "\n",
    "def stepAll(bodies, dt):\n",
    "    stateCapture = np.empty([len(bodies),3,3])\n",
    "    i = 0\n",
    "    for body in bodies:\n",
    "        body.step(dt)\n",
    "        stateCapture[i] = (body.state)\n",
    "        i+=1\n",
    "    return stateCapture\n",
    "\n",
    "stepAll(bodies,10)"
   ]
  },
  {
   "cell_type": "markdown",
   "metadata": {},
   "source": [
    "* Test Force Interaction Method"
   ]
  },
  {
   "cell_type": "code",
   "execution_count": 75,
   "metadata": {},
   "outputs": [
    {
     "name": "stderr",
     "output_type": "stream",
     "text": [
      "C:\\Anaconda3\\lib\\site-packages\\ipykernel_launcher.py:25: RuntimeWarning: divide by zero encountered in double_scalars\n",
      "C:\\Anaconda3\\lib\\site-packages\\ipykernel_launcher.py:25: RuntimeWarning: invalid value encountered in multiply\n"
     ]
    }
   ],
   "source": [
    "def computeRelations(bodies):\n",
    "    i = 1\n",
    "    for cbody in bodies:\n",
    "        for j in range(i,len(bodies)):\n",
    "            cbody.pullEachOther(bodies[j])\n",
    "        i+=1\n",
    "\n",
    "computeRelations(bodies)"
   ]
  },
  {
   "cell_type": "markdown",
   "metadata": {},
   "source": [
    "  #### 2. Visualize Objects"
   ]
  },
  {
   "cell_type": "code",
   "execution_count": 23,
   "metadata": {
    "collapsed": true,
    "scrolled": true
   },
   "outputs": [],
   "source": [
    "totalSteps = 10000\n",
    "stateRecord = np.empty([totalSteps,len(bodies),3,3])\n",
    "for i in range(totalSteps):\n",
    "    computeRelations(bodies)\n",
    "    stateRecord[i] = stepAll(bodies,0.01)\n"
   ]
  },
  {
   "cell_type": "markdown",
   "metadata": {
    "collapsed": true
   },
   "source": [
    "* Experiment with matplot lib"
   ]
  },
  {
   "cell_type": "markdown",
   "metadata": {},
   "source": [
    "* Experiment with dot product and transpose"
   ]
  },
  {
   "cell_type": "code",
   "execution_count": null,
   "metadata": {
    "collapsed": true,
    "scrolled": true
   },
   "outputs": [],
   "source": [
    " a = np.arange(120).reshape((2,3,4,5,))\n",
    "np.transpose(a,(1,2,3,0))"
   ]
  },
  {
   "cell_type": "markdown",
   "metadata": {
    "collapsed": true
   },
   "source": [
    "* Transpose the actual computed data, change shape from [100,len(bodies),3,3] to [len(bodies),3, 3, 100]\n",
    "so that they can be plotted by matplot"
   ]
  },
  {
   "cell_type": "code",
   "execution_count": 25,
   "metadata": {
    "scrolled": true
   },
   "outputs": [
    {
     "name": "stdout",
     "output_type": "stream",
     "text": [
      "[[[[-2.00000000e+00 -1.99982756e+00 -1.99956890e+00 ... -1.73185420e+01\n",
      "    -1.73165298e+01 -1.73145149e+01]\n",
      "   [ 3.00000000e-02  4.49993364e-02  5.99980093e-02 ...  3.23071058e+01\n",
      "     3.23130487e+01  3.23189913e+01]\n",
      "   [-2.00000000e-03 -2.99994002e-03 -3.99982006e-03 ...  1.82917711e+00\n",
      "     1.82906349e+00  1.82894992e+00]]\n",
      "\n",
      "  [[ 1.72443707e-02  2.58657653e-02  3.44863856e-02 ...  2.01215915e-01\n",
      "     2.01496907e-01  2.01777912e-01]\n",
      "   [ 1.49993364e+00  1.49986729e+00  1.49976779e+00 ...  5.94292927e-01\n",
      "     5.94262373e-01  5.94231788e-01]\n",
      "   [-9.99940017e-02 -9.99880041e-02 -9.99790088e-02 ... -1.13623131e-02\n",
      "    -1.13568929e-02 -1.13514690e-02]]\n",
      "\n",
      "  [[ 0.00000000e+00  0.00000000e+00  0.00000000e+00 ...  0.00000000e+00\n",
      "     0.00000000e+00  0.00000000e+00]\n",
      "   [ 0.00000000e+00  0.00000000e+00  0.00000000e+00 ...  0.00000000e+00\n",
      "     0.00000000e+00  0.00000000e+00]\n",
      "   [ 0.00000000e+00  0.00000000e+00  0.00000000e+00 ...  0.00000000e+00\n",
      "     0.00000000e+00  0.00000000e+00]]]\n",
      "\n",
      "\n",
      " [[[ 5.00000000e+00  4.99997976e+00  4.99994939e+00 ...  1.50606463e+01\n",
      "     1.50613386e+01  1.50620307e+01]\n",
      "   [-3.00000000e-03 -4.49996874e-03 -5.99990621e-03 ...  2.87873437e+01\n",
      "     2.87900367e+01  2.87927298e+01]\n",
      "   [ 2.00000000e-03  2.99999490e-03  3.99998470e-03 ...  2.45355409e+00\n",
      "     2.45381287e+00  2.45407165e+00]]\n",
      "\n",
      "  [[-2.02447928e-03 -3.03670316e-03 -4.04895211e-03 ...  6.92363110e-02\n",
      "     6.92082092e-02  6.91801061e-02]\n",
      "   [-1.49996874e-01 -1.49993748e-01 -1.49989058e-01 ...  2.69300387e-01\n",
      "     2.69303433e-01  2.69306482e-01]\n",
      "   [ 9.99994901e-02  9.99989803e-02  9.99982155e-02 ...  2.58781356e-02\n",
      "     2.58775954e-02  2.58770549e-02]]\n",
      "\n",
      "  [[ 0.00000000e+00  0.00000000e+00  0.00000000e+00 ...  0.00000000e+00\n",
      "     0.00000000e+00  0.00000000e+00]\n",
      "   [ 0.00000000e+00  0.00000000e+00  0.00000000e+00 ...  0.00000000e+00\n",
      "     0.00000000e+00  0.00000000e+00]\n",
      "   [ 0.00000000e+00  0.00000000e+00  0.00000000e+00 ...  0.00000000e+00\n",
      "     0.00000000e+00  0.00000000e+00]]]\n",
      "\n",
      "\n",
      " [[[ 0.00000000e+00  9.00126648e-05  2.25050654e-04 ... -2.55863762e+02\n",
      "    -2.55890569e+02 -2.55917377e+02]\n",
      "   [ 0.00000000e+00  1.05290468e-06  3.15842814e-06 ... -9.60541629e+02\n",
      "    -9.60640248e+02 -9.60738867e+02]\n",
      "   [ 0.00000000e+00 -2.69936536e-08 -8.09619267e-08 ...  1.90878846e+02\n",
      "     1.90898423e+02  1.90918001e+02]]\n",
      "\n",
      "  [[ 9.00126648e-03  1.35037989e-02  1.80094063e-02 ... -2.68073707e+00\n",
      "    -2.68073700e+00 -2.68073692e+00]\n",
      "   [ 1.05290468e-04  2.10552347e-04  3.68384984e-04 ... -9.86189039e+00\n",
      "    -9.86189011e+00 -9.86188982e+00]\n",
      "   [-2.69936536e-06 -5.39682732e-06 -9.43879966e-06 ...  1.95774287e+00\n",
      "     1.95774282e+00  1.95774276e+00]]\n",
      "\n",
      "  [[ 0.00000000e+00  0.00000000e+00  0.00000000e+00 ...  0.00000000e+00\n",
      "     0.00000000e+00  0.00000000e+00]\n",
      "   [ 0.00000000e+00  0.00000000e+00  0.00000000e+00 ...  0.00000000e+00\n",
      "     0.00000000e+00  0.00000000e+00]\n",
      "   [ 0.00000000e+00  0.00000000e+00  0.00000000e+00 ...  0.00000000e+00\n",
      "     0.00000000e+00  0.00000000e+00]]]]\n"
     ]
    }
   ],
   "source": [
    "visualization = np.transpose(stateRecord,(1, 2, 3, 0))\n",
    "print(visualization)"
   ]
  },
  {
   "cell_type": "code",
   "execution_count": 10,
   "metadata": {
    "scrolled": false
   },
   "outputs": [
    {
     "ename": "NameError",
     "evalue": "name 'visualization' is not defined",
     "traceback": [
      "\u001b[1;31m---------------------------------------------------------------------------\u001b[0m",
      "\u001b[1;31mNameError\u001b[0m                                 Traceback (most recent call last)",
      "\u001b[1;32m<ipython-input-10-e6b12c50cf6d>\u001b[0m in \u001b[0;36m<module>\u001b[1;34m()\u001b[0m\n\u001b[0;32m     12\u001b[0m \u001b[0mtheta\u001b[0m \u001b[1;33m=\u001b[0m \u001b[0mnp\u001b[0m\u001b[1;33m.\u001b[0m\u001b[0mlinspace\u001b[0m\u001b[1;33m(\u001b[0m\u001b[1;33m-\u001b[0m\u001b[1;36m4\u001b[0m \u001b[1;33m*\u001b[0m \u001b[0mnp\u001b[0m\u001b[1;33m.\u001b[0m\u001b[0mpi\u001b[0m\u001b[1;33m,\u001b[0m \u001b[1;36m4\u001b[0m \u001b[1;33m*\u001b[0m \u001b[0mnp\u001b[0m\u001b[1;33m.\u001b[0m\u001b[0mpi\u001b[0m\u001b[1;33m,\u001b[0m \u001b[1;36m100\u001b[0m\u001b[1;33m)\u001b[0m\u001b[1;33m\u001b[0m\u001b[0m\n\u001b[0;32m     13\u001b[0m \u001b[1;33m\u001b[0m\u001b[0m\n\u001b[1;32m---> 14\u001b[1;33m \u001b[0max\u001b[0m\u001b[1;33m.\u001b[0m\u001b[0mplot\u001b[0m\u001b[1;33m(\u001b[0m\u001b[0mvisualization\u001b[0m\u001b[1;33m[\u001b[0m\u001b[1;36m0\u001b[0m\u001b[1;33m]\u001b[0m\u001b[1;33m[\u001b[0m\u001b[1;36m0\u001b[0m\u001b[1;33m]\u001b[0m\u001b[1;33m[\u001b[0m\u001b[1;36m0\u001b[0m\u001b[1;33m]\u001b[0m\u001b[1;33m,\u001b[0m\u001b[0mvisualization\u001b[0m\u001b[1;33m[\u001b[0m\u001b[1;36m0\u001b[0m\u001b[1;33m]\u001b[0m\u001b[1;33m[\u001b[0m\u001b[1;36m0\u001b[0m\u001b[1;33m]\u001b[0m\u001b[1;33m[\u001b[0m\u001b[1;36m1\u001b[0m\u001b[1;33m]\u001b[0m\u001b[1;33m,\u001b[0m\u001b[0mvisualization\u001b[0m\u001b[1;33m[\u001b[0m\u001b[1;36m0\u001b[0m\u001b[1;33m]\u001b[0m\u001b[1;33m[\u001b[0m\u001b[1;36m0\u001b[0m\u001b[1;33m]\u001b[0m\u001b[1;33m[\u001b[0m\u001b[1;36m2\u001b[0m\u001b[1;33m]\u001b[0m\u001b[1;33m,\u001b[0m \u001b[0mlabel\u001b[0m\u001b[1;33m=\u001b[0m\u001b[1;34m'earth'\u001b[0m\u001b[1;33m)\u001b[0m\u001b[1;33m\u001b[0m\u001b[0m\n\u001b[0m\u001b[0;32m     15\u001b[0m \u001b[0max\u001b[0m\u001b[1;33m.\u001b[0m\u001b[0mplot\u001b[0m\u001b[1;33m(\u001b[0m\u001b[0mvisualization\u001b[0m\u001b[1;33m[\u001b[0m\u001b[1;36m1\u001b[0m\u001b[1;33m]\u001b[0m\u001b[1;33m[\u001b[0m\u001b[1;36m0\u001b[0m\u001b[1;33m]\u001b[0m\u001b[1;33m[\u001b[0m\u001b[1;36m0\u001b[0m\u001b[1;33m]\u001b[0m\u001b[1;33m,\u001b[0m\u001b[0mvisualization\u001b[0m\u001b[1;33m[\u001b[0m\u001b[1;36m1\u001b[0m\u001b[1;33m]\u001b[0m\u001b[1;33m[\u001b[0m\u001b[1;36m0\u001b[0m\u001b[1;33m]\u001b[0m\u001b[1;33m[\u001b[0m\u001b[1;36m1\u001b[0m\u001b[1;33m]\u001b[0m\u001b[1;33m,\u001b[0m\u001b[0mvisualization\u001b[0m\u001b[1;33m[\u001b[0m\u001b[1;36m1\u001b[0m\u001b[1;33m]\u001b[0m\u001b[1;33m[\u001b[0m\u001b[1;36m0\u001b[0m\u001b[1;33m]\u001b[0m\u001b[1;33m[\u001b[0m\u001b[1;36m2\u001b[0m\u001b[1;33m]\u001b[0m\u001b[1;33m,\u001b[0m \u001b[0mlabel\u001b[0m\u001b[1;33m=\u001b[0m\u001b[1;34m'jupiter'\u001b[0m\u001b[1;33m)\u001b[0m\u001b[1;33m\u001b[0m\u001b[0m\n\u001b[0;32m     16\u001b[0m \u001b[0max\u001b[0m\u001b[1;33m.\u001b[0m\u001b[0mplot\u001b[0m\u001b[1;33m(\u001b[0m\u001b[0mvisualization\u001b[0m\u001b[1;33m[\u001b[0m\u001b[1;36m2\u001b[0m\u001b[1;33m]\u001b[0m\u001b[1;33m[\u001b[0m\u001b[1;36m0\u001b[0m\u001b[1;33m]\u001b[0m\u001b[1;33m[\u001b[0m\u001b[1;36m0\u001b[0m\u001b[1;33m]\u001b[0m\u001b[1;33m,\u001b[0m\u001b[0mvisualization\u001b[0m\u001b[1;33m[\u001b[0m\u001b[1;36m2\u001b[0m\u001b[1;33m]\u001b[0m\u001b[1;33m[\u001b[0m\u001b[1;36m0\u001b[0m\u001b[1;33m]\u001b[0m\u001b[1;33m[\u001b[0m\u001b[1;36m1\u001b[0m\u001b[1;33m]\u001b[0m\u001b[1;33m,\u001b[0m\u001b[0mvisualization\u001b[0m\u001b[1;33m[\u001b[0m\u001b[1;36m2\u001b[0m\u001b[1;33m]\u001b[0m\u001b[1;33m[\u001b[0m\u001b[1;36m0\u001b[0m\u001b[1;33m]\u001b[0m\u001b[1;33m[\u001b[0m\u001b[1;36m2\u001b[0m\u001b[1;33m]\u001b[0m\u001b[1;33m,\u001b[0m \u001b[0mlabel\u001b[0m\u001b[1;33m=\u001b[0m\u001b[1;34m'sun'\u001b[0m\u001b[1;33m)\u001b[0m\u001b[1;33m\u001b[0m\u001b[0m\n",
      "\u001b[1;31mNameError\u001b[0m: name 'visualization' is not defined"
     ],
     "output_type": "error"
    }
   ],
   "source": [
    "import matplotlib as mpl\n",
    "from mpl_toolkits.mplot3d import Axes3D\n",
    "import numpy as np\n",
    "import matplotlib.pyplot as plt\n",
    "\n",
    "mpl.rcParams['legend.fontsize'] = 10\n",
    "\n",
    "fig = plt.figure()\n",
    "ax = fig.gca(projection='3d')\n",
    "\n",
    "ax.plot(visualization[0][0][0],visualization[0][0][1],visualization[0][0][2], label='earth')\n",
    "ax.plot(visualization[1][0][0],visualization[1][0][1],visualization[1][0][2], label='jupiter')\n",
    "ax.plot(visualization[2][0][0],visualization[2][0][1],visualization[2][0][2], label='sun')\n",
    "ax.legend()\n",
    "\n",
    "plt.show()\n",
    "plt.interactive(True)"
   ]
  },
  {
   "cell_type": "code",
   "execution_count": null,
   "metadata": {
    "collapsed": true
   },
   "outputs": [],
   "source": []
  }
 ],
 "metadata": {
  "kernelspec": {
   "display_name": "Python 3",
   "language": "python",
   "name": "python3"
  },
  "language_info": {
   "codemirror_mode": {
    "name": "ipython",
    "version": 3
   },
   "file_extension": ".py",
   "mimetype": "text/x-python",
   "name": "python",
   "nbconvert_exporter": "python",
   "pygments_lexer": "ipython3",
   "version": "3.6.2"
  }
 },
 "nbformat": 4,
 "nbformat_minor": 2
}
